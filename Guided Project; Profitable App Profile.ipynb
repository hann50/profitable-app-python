{
 "cells": [
  {
   "cell_type": "markdown",
   "metadata": {},
   "source": [
    "# Guided Project: Profitable App Profiles for the App Store and Google Play Markets\n",
    "\n",
    "In this project, I will act as a data analyst for a company that builds Android and iOS mobile apps. The apps that are created are free and in-app ads are the source of the revenue, meaning, the more users that use and see the ads, the better. The goal is to identify what type of apps are most likely to attract more users.\n",
    "\n",
    "For this guided project, the goal is to apply all the missions in Fundamentals of Python for Data Science in Dataquest. In this course, I learned the basics of programming in Python, list and for loops, conditional statements, dictionaries and frequency tables, functions, and Jupyter Notebook."
   ]
  },
  {
   "cell_type": "markdown",
   "metadata": {},
   "source": [
    "## Opening and Exploring the Data\n",
    "\n",
    "In this section, I will open the provided csv file from Apple Store and Google Playstore. To explore the data, `explore_data()` function will be used in order to repeatedly use to print rows in a readable way.\n",
    "\n",
    "Under this section, we can identify the column names that can be useful in evaluating which apps are most likely to attract users. 'price', 'rating_count_tot', 'user_rating', and 'content_rating' are some examples. Full documentation can be accessed [here](https://www.kaggle.com/ramamet4/app-store-apple-data-set-10k-apps/home)."
   ]
  },
  {
   "cell_type": "code",
   "execution_count": 1,
   "metadata": {},
   "outputs": [],
   "source": [
    "from csv import reader\n",
    "\n",
    "# To open AppleStore.csv\n",
    "opened_file = open('AppleStore.csv', encoding=\"utf8\")\n",
    "read_file = reader(opened_file)\n",
    "iOS_apps_data = list(read_file)\n",
    "iOS_header = iOS_apps_data[0]  \n",
    "iOS_body = iOS_apps_data[1:]\n",
    "\n",
    "# To open googleplaystore.csv\n",
    "opened_file = open('googleplaystore.csv', encoding=\"utf8\")\n",
    "read_file = reader(opened_file)\n",
    "android_apps_data = list(read_file)\n",
    "android_header = android_apps_data[0]\n",
    "android_body = android_apps_data[1:]"
   ]
  },
  {
   "cell_type": "code",
   "execution_count": 2,
   "metadata": {
    "scrolled": true
   },
   "outputs": [
    {
     "name": "stdout",
     "output_type": "stream",
     "text": [
      "['id', 'track_name', 'size_bytes', 'currency', 'price', 'rating_count_tot', 'rating_count_ver', 'user_rating', 'user_rating_ver', 'ver', 'cont_rating', 'prime_genre', 'sup_devices.num', 'ipadSc_urls.num', 'lang.num', 'vpp_lic']\n",
      "\n",
      "\n",
      "['284882215', 'Facebook', '389879808', 'USD', '0.0', '2974676', '212', '3.5', '3.5', '95.0', '4+', 'Social Networking', '37', '1', '29', '1']\n",
      "\n",
      "\n",
      "['389801252', 'Instagram', '113954816', 'USD', '0.0', '2161558', '1289', '4.5', '4.0', '10.23', '12+', 'Photo & Video', '37', '0', '29', '1']\n",
      "\n",
      "\n",
      "['529479190', 'Clash of Clans', '116476928', 'USD', '0.0', '2130805', '579', '4.5', '4.5', '9.24.12', '9+', 'Games', '38', '5', '18', '1']\n",
      "\n",
      "\n",
      "Number of rows: 7197\n",
      "Number of columns: 16\n"
     ]
    }
   ],
   "source": [
    "# Exploring the Data in Apple Store\n",
    "def explore_data(dataset, start, end):\n",
    "    dataset_slice = dataset[start:end]\n",
    "    for row in dataset_slice:\n",
    "        print(row)\n",
    "        print('\\n') # Will add an empty line after each row\n",
    "        \n",
    "    print('Number of rows:', len(dataset))\n",
    "    print('Number of columns:', len(dataset[0]))\n",
    "\n",
    "print(iOS_header)\n",
    "print('\\n')\n",
    "explore_data(iOS_body,0,3)"
   ]
  },
  {
   "cell_type": "code",
   "execution_count": 3,
   "metadata": {},
   "outputs": [
    {
     "name": "stdout",
     "output_type": "stream",
     "text": [
      "['App', 'Category', 'Rating', 'Reviews', 'Size', 'Installs', 'Type', 'Price', 'Content Rating', 'Genres', 'Last Updated', 'Current Ver', 'Android Ver']\n",
      "\n",
      "\n",
      "['Photo Editor & Candy Camera & Grid & ScrapBook', 'ART_AND_DESIGN', '4.1', '159', '19M', '10,000+', 'Free', '0', 'Everyone', 'Art & Design', 'January 7, 2018', '1.0.0', '4.0.3 and up']\n",
      "\n",
      "\n",
      "['Coloring book moana', 'ART_AND_DESIGN', '3.9', '967', '14M', '500,000+', 'Free', '0', 'Everyone', 'Art & Design;Pretend Play', 'January 15, 2018', '2.0.0', '4.0.3 and up']\n",
      "\n",
      "\n",
      "['U Launcher Lite – FREE Live Cool Themes, Hide Apps', 'ART_AND_DESIGN', '4.7', '87510', '8.7M', '5,000,000+', 'Free', '0', 'Everyone', 'Art & Design', 'August 1, 2018', '1.2.4', '4.0.3 and up']\n",
      "\n",
      "\n",
      "Number of rows: 10841\n",
      "Number of columns: 13\n"
     ]
    }
   ],
   "source": [
    "# Exploring the Data in Google Playstore\n",
    "def explore_data(dataset, start, end):\n",
    "    dataset_slice = dataset[start:end]\n",
    "    for row in dataset_slice:\n",
    "        print(row)\n",
    "        print('\\n') # Will add an empty line after each row\n",
    "        \n",
    "    \n",
    "    print('Number of rows:', len(dataset))\n",
    "    print('Number of columns:', len(dataset[0]))\n",
    "        \n",
    "print(android_header) \n",
    "print('\\n')\n",
    "explore_data(android_body,0,3)"
   ]
  },
  {
   "cell_type": "markdown",
   "metadata": {},
   "source": [
    "## Deleting Wrong Data\n",
    "\n",
    "Since the company only targets the *English Speaking audience* and *free to download apps*, we need to detect apps that is not in English language and those apps that are not free. *Data cleaning* has been implemented.\n",
    "\n",
    "In this section, the Google Play data set has a dedicated [discussion section](https://www.kaggle.com/lava18/google-play-store-apps/discussion), and we can see that [one of the discussions](https://www.kaggle.com/lava18/google-play-store-apps/discussion/66015) describes an error for a certain row."
   ]
  },
  {
   "cell_type": "code",
   "execution_count": 4,
   "metadata": {},
   "outputs": [
    {
     "name": "stdout",
     "output_type": "stream",
     "text": [
      "['Life Made WI-Fi Touchscreen Photo Frame', '1.9', '19', '3.0M', '1,000+', 'Free', '0', 'Everyone', '', 'February 11, 2018', '1.0.19', '4.0 and up']\n",
      "10472\n"
     ]
    }
   ],
   "source": [
    "for row in android_apps_data:\n",
    "    length_header = len(android_header)\n",
    "    length_row = len(row)\n",
    "    if length_header != length_row:\n",
    "        print(row)\n",
    "        print(android_body.index(row))      "
   ]
  },
  {
   "cell_type": "markdown",
   "metadata": {},
   "source": [
    "Now that we identify and verify the index of the row that has an error, we can now remove it by using `del` statement. "
   ]
  },
  {
   "cell_type": "code",
   "execution_count": 5,
   "metadata": {},
   "outputs": [
    {
     "name": "stdout",
     "output_type": "stream",
     "text": [
      "Number of rows before deletion of error:  10841\n",
      "Number of rows after deletion of error:  10840\n"
     ]
    }
   ],
   "source": [
    "print('Number of rows before deletion of error: ', len(android_body))\n",
    "del android_body[10472]\n",
    "print('Number of rows after deletion of error: ', len(android_body))"
   ]
  },
  {
   "cell_type": "markdown",
   "metadata": {},
   "source": [
    "## Removing Duplicate Entries: Part One\n",
    "\n",
    "In the Google Play data set, there are parts wherein applications have duplicate entries. The code below will show how many apps were duplicated in the data set and some examples to confirm that there are duplicate rows in the data set."
   ]
  },
  {
   "cell_type": "code",
   "execution_count": 6,
   "metadata": {},
   "outputs": [
    {
     "name": "stdout",
     "output_type": "stream",
     "text": [
      "Number of duplicate apps:  1181\n",
      "\n",
      "\n",
      "Examples of duplicate apps:  ['Quick PDF Scanner + OCR FREE', 'Box', 'Google My Business', 'ZOOM Cloud Meetings', 'join.me - Simple Meetings', 'Box', 'Zenefits', 'Google Ads', 'Google My Business', 'Slack']\n"
     ]
    }
   ],
   "source": [
    "duplicate_apps = []\n",
    "unique_apps = []\n",
    "\n",
    "for app in android_body:\n",
    "    name = app[0]\n",
    "    if name in unique_apps:\n",
    "        duplicate_apps.append(name)\n",
    "    else:\n",
    "        unique_apps.append(name)\n",
    "        \n",
    "print('Number of duplicate apps: ', len(duplicate_apps))\n",
    "print('\\n')\n",
    "print('Examples of duplicate apps: ', duplicate_apps[:10])"
   ]
  },
  {
   "cell_type": "markdown",
   "metadata": {},
   "source": [
    "However, we will not remove the duplicates randomly. The code below will show that there are different number of reviews in an app, say, *Google Ads*. As we can observe, the third data has the highest reviews. What we will do is compare them and only consider the app with the highest number of reviews.  "
   ]
  },
  {
   "cell_type": "code",
   "execution_count": 7,
   "metadata": {},
   "outputs": [
    {
     "name": "stdout",
     "output_type": "stream",
     "text": [
      "['Google Ads', 'BUSINESS', '4.3', '29313', '20M', '5,000,000+', 'Free', '0', 'Everyone', 'Business', 'July 30, 2018', '1.12.0', '4.0.3 and up']\n",
      "\n",
      "\n",
      "['Google Ads', 'BUSINESS', '4.3', '29313', '20M', '5,000,000+', 'Free', '0', 'Everyone', 'Business', 'July 30, 2018', '1.12.0', '4.0.3 and up']\n",
      "\n",
      "\n",
      "['Google Ads', 'BUSINESS', '4.3', '29331', '20M', '5,000,000+', 'Free', '0', 'Everyone', 'Business', 'July 30, 2018', '1.12.0', '4.0.3 and up']\n",
      "\n",
      "\n"
     ]
    }
   ],
   "source": [
    "for app in android_body:\n",
    "    name = app[0]\n",
    "    if name == 'Google Ads':\n",
    "        print(app)\n",
    "        print('\\n')"
   ]
  },
  {
   "cell_type": "markdown",
   "metadata": {},
   "source": [
    "For now, let us now compute how many applications should remain when the duplicates were removed."
   ]
  },
  {
   "cell_type": "code",
   "execution_count": 8,
   "metadata": {},
   "outputs": [
    {
     "name": "stdout",
     "output_type": "stream",
     "text": [
      "Expected length:  9659\n"
     ]
    }
   ],
   "source": [
    "print('Expected length: ', len(android_body) - len(duplicate_apps))"
   ]
  },
  {
   "cell_type": "markdown",
   "metadata": {},
   "source": [
    "## Removing Duplicate Entries: Part Two\n",
    "\n",
    "In this section, we will use dictionary and use the information stored in it. After this, the data should be only around 9659 since there are 1181 duplicates.\n",
    "\n",
    "In removing duplicates:\n",
    "- Create a dictionary, where each dictionary key is a unique app name and the corresponding dictionary value is the highest number of reviews of that app.\n",
    "- Use the information stored in the dictionary and create a new data set, which will have only one entry per app (and for each app, we'll only select the entry with the highest number of reviews)."
   ]
  },
  {
   "cell_type": "code",
   "execution_count": 9,
   "metadata": {},
   "outputs": [],
   "source": [
    "reviews_max = {}\n",
    "for app in android_body:\n",
    "    name = app[0]\n",
    "    n_reviews = float(app[3])\n",
    "    \n",
    "    if name in reviews_max and reviews_max[name] < n_reviews:\n",
    "        reviews_max[name] = n_reviews\n",
    "        \n",
    "    elif name not in reviews_max:\n",
    "        reviews_max[name] = n_reviews"
   ]
  },
  {
   "cell_type": "markdown",
   "metadata": {},
   "source": [
    "In the code below, we will show comparison of the expected and actual length of the data."
   ]
  },
  {
   "cell_type": "code",
   "execution_count": 10,
   "metadata": {
    "scrolled": true
   },
   "outputs": [
    {
     "name": "stdout",
     "output_type": "stream",
     "text": [
      "Expected length:  9659\n",
      "Actual length:  9659\n"
     ]
    }
   ],
   "source": [
    "print('Expected length: ', len(android_body) - len(duplicate_apps))\n",
    "print('Actual length: ', len(reviews_max))"
   ]
  },
  {
   "cell_type": "markdown",
   "metadata": {},
   "source": [
    "In this next code, we will remove the duplicate rows."
   ]
  },
  {
   "cell_type": "code",
   "execution_count": 11,
   "metadata": {},
   "outputs": [],
   "source": [
    "android_clean = [] # will store new cleaned data set\n",
    "already_added = [] # will just store app names\n",
    "\n",
    "for app in android_body:\n",
    "    name = app[0]\n",
    "    n_reviews = float(app[3])\n",
    "    \n",
    "    if (reviews_max[name] == n_reviews) and (name not in already_added):\n",
    "        android_clean.append(app)\n",
    "        already_added.append(name)\n",
    "    "
   ]
  },
  {
   "cell_type": "markdown",
   "metadata": {},
   "source": [
    "To explore the `android_clean` data set, use `explore_data` function."
   ]
  },
  {
   "cell_type": "code",
   "execution_count": 12,
   "metadata": {},
   "outputs": [
    {
     "name": "stdout",
     "output_type": "stream",
     "text": [
      "['Photo Editor & Candy Camera & Grid & ScrapBook', 'ART_AND_DESIGN', '4.1', '159', '19M', '10,000+', 'Free', '0', 'Everyone', 'Art & Design', 'January 7, 2018', '1.0.0', '4.0.3 and up']\n",
      "\n",
      "\n",
      "['U Launcher Lite – FREE Live Cool Themes, Hide Apps', 'ART_AND_DESIGN', '4.7', '87510', '8.7M', '5,000,000+', 'Free', '0', 'Everyone', 'Art & Design', 'August 1, 2018', '1.2.4', '4.0.3 and up']\n",
      "\n",
      "\n",
      "['Sketch - Draw & Paint', 'ART_AND_DESIGN', '4.5', '215644', '25M', '50,000,000+', 'Free', '0', 'Teen', 'Art & Design', 'June 8, 2018', 'Varies with device', '4.2 and up']\n",
      "\n",
      "\n",
      "Number of rows: 9659\n",
      "Number of columns: 13\n"
     ]
    }
   ],
   "source": [
    "explore_data(android_clean, 0,3)"
   ]
  },
  {
   "cell_type": "markdown",
   "metadata": {},
   "source": [
    "## Removing Non-English Apps: Part One\n",
    "\n",
    "In Google Playstore, there are duplicates. That is not the case in App Store data set. The problem however is that there are Non-English Apps included. The goal here now is to remove it from the data set.  "
   ]
  },
  {
   "cell_type": "code",
   "execution_count": 13,
   "metadata": {},
   "outputs": [
    {
     "name": "stdout",
     "output_type": "stream",
     "text": [
      "True\n",
      "False\n",
      "False\n",
      "False\n"
     ]
    }
   ],
   "source": [
    "def english_language(a_string):\n",
    "    for character in a_string:\n",
    "        if ord(character) > 127:\n",
    "            return False\n",
    "    return True\n",
    "\n",
    "print(english_language(a_string = 'Instagram'))\n",
    "print(english_language(a_string = '爱奇艺PPS -《欢乐颂2》电视剧热播'))\n",
    "print(english_language(a_string = 'Docs To Go™ Free Office Suite'))\n",
    "print(english_language(a_string = 'Instachat 😜'))"
   ]
  },
  {
   "cell_type": "markdown",
   "metadata": {},
   "source": [
    "## Removing Non-English Apps: Part Two\n",
    "\n",
    "In part one of this, we failed to identify Docs To Go™ Free Office Suite and Instachat 😜 as an English App since there are characters that are not in the ASCII range and emojis. "
   ]
  },
  {
   "cell_type": "code",
   "execution_count": 14,
   "metadata": {},
   "outputs": [
    {
     "name": "stdout",
     "output_type": "stream",
     "text": [
      "8482\n",
      "128540\n"
     ]
    }
   ],
   "source": [
    "print(ord('™')) # returns ASCII code\n",
    "print(ord('😜')) # returns ASCII code"
   ]
  },
  {
   "cell_type": "markdown",
   "metadata": {},
   "source": [
    "This time, we will edit the function created earlier in order to filter out the non-English apps."
   ]
  },
  {
   "cell_type": "code",
   "execution_count": 15,
   "metadata": {},
   "outputs": [
    {
     "name": "stdout",
     "output_type": "stream",
     "text": [
      "False\n",
      "True\n",
      "True\n"
     ]
    }
   ],
   "source": [
    "def check_english_language(a_string):\n",
    "    count_input = 0\n",
    "    for character in a_string:\n",
    "        if ord(character) > 127:\n",
    "            count_input += 1\n",
    "            if count_input > 3:\n",
    "                return False\n",
    "        \n",
    "    return True\n",
    "\n",
    "print(check_english_language(a_string = '爱奇艺PPS -《欢乐颂2》电视剧热播'))\n",
    "print(check_english_language(a_string = 'Docs To Go™ Free Office Suite'))\n",
    "print(check_english_language(a_string = 'Instachat 😜'))"
   ]
  },
  {
   "cell_type": "markdown",
   "metadata": {},
   "source": [
    "Next, we will use the new function created to filter out non-English apps from both data sets."
   ]
  },
  {
   "cell_type": "code",
   "execution_count": 16,
   "metadata": {},
   "outputs": [
    {
     "name": "stdout",
     "output_type": "stream",
     "text": [
      "New Data in iOS (English Apps): 6183\n",
      "['284882215', 'Facebook', '389879808', 'USD', '0.0', '2974676', '212', '3.5', '3.5', '95.0', '4+', 'Social Networking', '37', '1', '29', '1']\n",
      "\n",
      "\n",
      "['389801252', 'Instagram', '113954816', 'USD', '0.0', '2161558', '1289', '4.5', '4.0', '10.23', '12+', 'Photo & Video', '37', '0', '29', '1']\n",
      "\n",
      "\n",
      "['529479190', 'Clash of Clans', '116476928', 'USD', '0.0', '2130805', '579', '4.5', '4.5', '9.24.12', '9+', 'Games', '38', '5', '18', '1']\n",
      "\n",
      "\n",
      "Number of rows: 6183\n",
      "Number of columns: 16\n",
      "\n",
      "\n",
      "New Data in Google Playstore (English Apps): 9614\n",
      "['Photo Editor & Candy Camera & Grid & ScrapBook', 'ART_AND_DESIGN', '4.1', '159', '19M', '10,000+', 'Free', '0', 'Everyone', 'Art & Design', 'January 7, 2018', '1.0.0', '4.0.3 and up']\n",
      "\n",
      "\n",
      "['U Launcher Lite – FREE Live Cool Themes, Hide Apps', 'ART_AND_DESIGN', '4.7', '87510', '8.7M', '5,000,000+', 'Free', '0', 'Everyone', 'Art & Design', 'August 1, 2018', '1.2.4', '4.0.3 and up']\n",
      "\n",
      "\n",
      "['Sketch - Draw & Paint', 'ART_AND_DESIGN', '4.5', '215644', '25M', '50,000,000+', 'Free', '0', 'Teen', 'Art & Design', 'June 8, 2018', 'Varies with device', '4.2 and up']\n",
      "\n",
      "\n",
      "Number of rows: 9614\n",
      "Number of columns: 13\n"
     ]
    }
   ],
   "source": [
    "check_english_iOS = []\n",
    "check_english_android = []\n",
    "\n",
    "for app in iOS_body:\n",
    "    name = app[1]\n",
    "    if check_english_language(name):\n",
    "        check_english_iOS.append(app)\n",
    "        \n",
    "for app in android_clean:\n",
    "    name = app[0]\n",
    "    if check_english_language(name):\n",
    "        check_english_android.append(app)\n",
    "\n",
    "print('New Data in iOS (English Apps):', len(check_english_iOS))\n",
    "explore_data(check_english_iOS,0,3)\n",
    "print('\\n')\n",
    "print('New Data in Google Playstore (English Apps):', len(check_english_android))\n",
    "explore_data(check_english_android,0,3)"
   ]
  },
  {
   "cell_type": "markdown",
   "metadata": {},
   "source": [
    "## Isolating the Free Apps\n",
    "\n",
    "In this part, we will isolate the free apps since we only build apps that are free to download and isntall. Since the data set contains free and non-free apps, we will remove the non-free apps. "
   ]
  },
  {
   "cell_type": "code",
   "execution_count": 17,
   "metadata": {},
   "outputs": [
    {
     "name": "stdout",
     "output_type": "stream",
     "text": [
      "New Data in iOS (English and Free Apps): 3222\n",
      "\n",
      "\n",
      "New Data in Google Playstore (English and Apps): 8864\n"
     ]
    }
   ],
   "source": [
    "check_final_iOS = []\n",
    "check_final_android = []\n",
    "\n",
    "for app in check_english_iOS:\n",
    "    price = app[4]\n",
    "    if price == '0.0':\n",
    "        check_final_iOS.append(app)\n",
    "        \n",
    "for app in check_english_android:\n",
    "    price = app[7]\n",
    "    if price == '0':\n",
    "        check_final_android.append(app)\n",
    "        \n",
    "print('New Data in iOS (English and Free Apps):', len(check_final_iOS))\n",
    "print('\\n')\n",
    "print('New Data in Google Playstore (English and Apps):', len(check_final_android))"
   ]
  },
  {
   "cell_type": "markdown",
   "metadata": {},
   "source": [
    "## Most Common Apps by Genre: Part 1\n",
    "\n",
    "So we learned how to:\n",
    "- Remove inaccurate data\n",
    "- Remove duplicate app entries\n",
    "- Remoce non-English apps\n",
    "- Isolate the free apps\n",
    "\n",
    "Earlier, it is stated that the goal is to identify the most commonly used apps in both app profile because the revenue will likely go up if it will be identified. The idea now is to build frequency tables for a few column in the data sets.\n",
    "\n",
    "The columns that can be useful in generating frequency tables are `prime_genre` for App Store data set and `Genres` and `Category` for Google Playstore data set."
   ]
  },
  {
   "cell_type": "markdown",
   "metadata": {},
   "source": [
    "## Most Common Apps by Genre: Part Two\n",
    "\n",
    "Now, we will build two functions that we can use in analyzing the frequency tables:\n",
    "- One function to generate frequency tables that shows percentages.\n",
    "- Another function we can use to display the percentages in a descending order.\n",
    "\n",
    "The built-in `sorted()` function will be used to return a list of the elemetns of that iterable sorted in ascending or descending order. It works well in list of tuples (contains a dictionary key along with its corresponding dictionary value). The dictionary value comes first followed by the dictionary key."
   ]
  },
  {
   "cell_type": "code",
   "execution_count": 27,
   "metadata": {},
   "outputs": [],
   "source": [
    "# For prime_genre(iOS)\n",
    "\n",
    "def freq_table(dataset, index):\n",
    "    table = {}\n",
    "    total = 0\n",
    "    \n",
    "    for app in dataset:\n",
    "        total += 1\n",
    "        value = app[index]\n",
    "        if value in table:\n",
    "            table[value] += 1\n",
    "        else:\n",
    "            table[value] = 1\n",
    "    \n",
    "    table_percentages = {}\n",
    "    for key in table:\n",
    "        percentage = (table[key]/total) * 100\n",
    "        table_percentages[key] = percentage\n",
    "    \n",
    "    return table_percentages\n",
    "\n",
    "def display_table(dataset, index):\n",
    "    table = freq_table(dataset, index)\n",
    "    table_display = []\n",
    "    for key in table:\n",
    "        key_val_as_tuple = (table[key], key)\n",
    "        table_display.append(key_val_as_tuple)\n",
    "\n",
    "    table_sorted = sorted(table_display, reverse = True)\n",
    "    for entry in table_sorted:\n",
    "        print(entry[1], ':', entry[0]) "
   ]
  },
  {
   "cell_type": "markdown",
   "metadata": {},
   "source": [
    "## Most Common Apps by Genre: Part Three\n",
    "\n",
    "For this part, we will analyze the calculated data."
   ]
  },
  {
   "cell_type": "markdown",
   "metadata": {},
   "source": [
    "As we can see here, the most common `prime_genre` in iOS is *Games* with 58.16%. Next to it is the *Entertainment* with 7.88%. Games was way more ahead compared in other genres. After that, percentage gaps were small. We can also observe that most apps that are popular here are designed for entertainment. It is highly recommended to look out for apps that are designed for entertainment. "
   ]
  },
  {
   "cell_type": "code",
   "execution_count": 19,
   "metadata": {
    "scrolled": false
   },
   "outputs": [
    {
     "name": "stdout",
     "output_type": "stream",
     "text": [
      "Games : 58.16263190564867\n",
      "Entertainment : 7.883302296710118\n",
      "Photo & Video : 4.9658597144630665\n",
      "Education : 3.662321539416512\n",
      "Social Networking : 3.2898820608317814\n",
      "Shopping : 2.60707635009311\n",
      "Utilities : 2.5139664804469275\n",
      "Sports : 2.1415270018621975\n",
      "Music : 2.0484171322160147\n",
      "Health & Fitness : 2.0173805090006205\n",
      "Productivity : 1.7380509000620732\n",
      "Lifestyle : 1.5828677839851024\n",
      "News : 1.3345747982619491\n",
      "Travel : 1.2414649286157666\n",
      "Finance : 1.1173184357541899\n",
      "Weather : 0.8690254500310366\n",
      "Food & Drink : 0.8069522036002483\n",
      "Reference : 0.5586592178770949\n",
      "Business : 0.5276225946617008\n",
      "Book : 0.4345127250155183\n",
      "Navigation : 0.186219739292365\n",
      "Medical : 0.186219739292365\n",
      "Catalogs : 0.12414649286157665\n"
     ]
    }
   ],
   "source": [
    "display_table(check_final_iOS, 11) # prime_genre (iOS)"
   ]
  },
  {
   "cell_type": "markdown",
   "metadata": {},
   "source": [
    "As we can see in the result below, the most common genres for `Genres` in Google Play data set was *Tools* with 8.45%. Next to it was *Entertainment* with 6.07%. Although, we can observe that there is a slight difference between them unlike with Games and Entertainment in Apple Store. For `Category` part, *Family* got the highest percentage with 18.91%. Second was *Game* with 9.72%. Overall, we should focus with apps that are designed for Games and Entertainment since they got a place both in Apple Store and Google Playstore."
   ]
  },
  {
   "cell_type": "code",
   "execution_count": 20,
   "metadata": {},
   "outputs": [
    {
     "name": "stdout",
     "output_type": "stream",
     "text": [
      "Tools : 8.449909747292418\n",
      "Entertainment : 6.069494584837545\n",
      "Education : 5.347472924187725\n",
      "Business : 4.591606498194946\n",
      "Productivity : 3.892148014440433\n",
      "Lifestyle : 3.892148014440433\n",
      "Finance : 3.7003610108303246\n",
      "Medical : 3.531137184115524\n",
      "Sports : 3.463447653429603\n",
      "Personalization : 3.3167870036101084\n",
      "Communication : 3.2378158844765346\n",
      "Action : 3.1024368231046933\n",
      "Health & Fitness : 3.0798736462093865\n",
      "Photography : 2.944494584837545\n",
      "News & Magazines : 2.7978339350180503\n",
      "Social : 2.6624548736462095\n",
      "Travel & Local : 2.3240072202166067\n",
      "Shopping : 2.2450361010830324\n",
      "Books & Reference : 2.1435018050541514\n",
      "Simulation : 2.0419675090252705\n",
      "Dating : 1.861462093862816\n",
      "Arcade : 1.8501805054151623\n",
      "Video Players & Editors : 1.7712093862815883\n",
      "Casual : 1.7599277978339352\n",
      "Maps & Navigation : 1.3989169675090252\n",
      "Food & Drink : 1.2409747292418771\n",
      "Puzzle : 1.128158844765343\n",
      "Racing : 0.9927797833935018\n",
      "Role Playing : 0.9363718411552346\n",
      "Libraries & Demo : 0.9363718411552346\n",
      "Auto & Vehicles : 0.9250902527075812\n",
      "Strategy : 0.9138086642599278\n",
      "House & Home : 0.8235559566787004\n",
      "Weather : 0.8009927797833934\n",
      "Events : 0.7107400722021661\n",
      "Adventure : 0.6768953068592057\n",
      "Comics : 0.6092057761732852\n",
      "Beauty : 0.5979241877256317\n",
      "Art & Design : 0.5979241877256317\n",
      "Parenting : 0.4963898916967509\n",
      "Card : 0.45126353790613716\n",
      "Casino : 0.42870036101083037\n",
      "Trivia : 0.41741877256317694\n",
      "Educational;Education : 0.39485559566787\n",
      "Board : 0.3835740072202166\n",
      "Educational : 0.3722924187725632\n",
      "Education;Education : 0.33844765342960287\n",
      "Word : 0.2594765342960289\n",
      "Casual;Pretend Play : 0.236913357400722\n",
      "Music : 0.2030685920577617\n",
      "Racing;Action & Adventure : 0.16922382671480143\n",
      "Puzzle;Brain Games : 0.16922382671480143\n",
      "Entertainment;Music & Video : 0.16922382671480143\n",
      "Casual;Brain Games : 0.13537906137184114\n",
      "Casual;Action & Adventure : 0.13537906137184114\n",
      "Arcade;Action & Adventure : 0.12409747292418773\n",
      "Action;Action & Adventure : 0.10153429602888085\n",
      "Educational;Pretend Play : 0.09025270758122744\n",
      "Simulation;Action & Adventure : 0.078971119133574\n",
      "Parenting;Education : 0.078971119133574\n",
      "Entertainment;Brain Games : 0.078971119133574\n",
      "Board;Brain Games : 0.078971119133574\n",
      "Parenting;Music & Video : 0.06768953068592057\n",
      "Educational;Brain Games : 0.06768953068592057\n",
      "Casual;Creativity : 0.06768953068592057\n",
      "Art & Design;Creativity : 0.06768953068592057\n",
      "Education;Pretend Play : 0.056407942238267145\n",
      "Role Playing;Pretend Play : 0.04512635379061372\n",
      "Education;Creativity : 0.04512635379061372\n",
      "Role Playing;Action & Adventure : 0.033844765342960284\n",
      "Puzzle;Action & Adventure : 0.033844765342960284\n",
      "Entertainment;Creativity : 0.033844765342960284\n",
      "Entertainment;Action & Adventure : 0.033844765342960284\n",
      "Educational;Creativity : 0.033844765342960284\n",
      "Educational;Action & Adventure : 0.033844765342960284\n",
      "Education;Music & Video : 0.033844765342960284\n",
      "Education;Brain Games : 0.033844765342960284\n",
      "Education;Action & Adventure : 0.033844765342960284\n",
      "Adventure;Action & Adventure : 0.033844765342960284\n",
      "Video Players & Editors;Music & Video : 0.02256317689530686\n",
      "Sports;Action & Adventure : 0.02256317689530686\n",
      "Simulation;Pretend Play : 0.02256317689530686\n",
      "Puzzle;Creativity : 0.02256317689530686\n",
      "Music;Music & Video : 0.02256317689530686\n",
      "Entertainment;Pretend Play : 0.02256317689530686\n",
      "Casual;Education : 0.02256317689530686\n",
      "Board;Action & Adventure : 0.02256317689530686\n",
      "Video Players & Editors;Creativity : 0.01128158844765343\n",
      "Trivia;Education : 0.01128158844765343\n",
      "Travel & Local;Action & Adventure : 0.01128158844765343\n",
      "Tools;Education : 0.01128158844765343\n",
      "Strategy;Education : 0.01128158844765343\n",
      "Strategy;Creativity : 0.01128158844765343\n",
      "Strategy;Action & Adventure : 0.01128158844765343\n",
      "Simulation;Education : 0.01128158844765343\n",
      "Role Playing;Brain Games : 0.01128158844765343\n",
      "Racing;Pretend Play : 0.01128158844765343\n",
      "Puzzle;Education : 0.01128158844765343\n",
      "Parenting;Brain Games : 0.01128158844765343\n",
      "Music & Audio;Music & Video : 0.01128158844765343\n",
      "Lifestyle;Pretend Play : 0.01128158844765343\n",
      "Lifestyle;Education : 0.01128158844765343\n",
      "Health & Fitness;Education : 0.01128158844765343\n",
      "Health & Fitness;Action & Adventure : 0.01128158844765343\n",
      "Entertainment;Education : 0.01128158844765343\n",
      "Communication;Creativity : 0.01128158844765343\n",
      "Comics;Creativity : 0.01128158844765343\n",
      "Casual;Music & Video : 0.01128158844765343\n",
      "Card;Action & Adventure : 0.01128158844765343\n",
      "Books & Reference;Education : 0.01128158844765343\n",
      "Art & Design;Pretend Play : 0.01128158844765343\n",
      "Art & Design;Action & Adventure : 0.01128158844765343\n",
      "Arcade;Pretend Play : 0.01128158844765343\n",
      "Adventure;Education : 0.01128158844765343\n"
     ]
    }
   ],
   "source": [
    "display_table(check_final_android, 9) # Genres (Google Playstore)"
   ]
  },
  {
   "cell_type": "code",
   "execution_count": 21,
   "metadata": {},
   "outputs": [
    {
     "name": "stdout",
     "output_type": "stream",
     "text": [
      "FAMILY : 18.907942238267147\n",
      "GAME : 9.724729241877256\n",
      "TOOLS : 8.461191335740072\n",
      "BUSINESS : 4.591606498194946\n",
      "LIFESTYLE : 3.9034296028880866\n",
      "PRODUCTIVITY : 3.892148014440433\n",
      "FINANCE : 3.7003610108303246\n",
      "MEDICAL : 3.531137184115524\n",
      "SPORTS : 3.395758122743682\n",
      "PERSONALIZATION : 3.3167870036101084\n",
      "COMMUNICATION : 3.2378158844765346\n",
      "HEALTH_AND_FITNESS : 3.0798736462093865\n",
      "PHOTOGRAPHY : 2.944494584837545\n",
      "NEWS_AND_MAGAZINES : 2.7978339350180503\n",
      "SOCIAL : 2.6624548736462095\n",
      "TRAVEL_AND_LOCAL : 2.33528880866426\n",
      "SHOPPING : 2.2450361010830324\n",
      "BOOKS_AND_REFERENCE : 2.1435018050541514\n",
      "DATING : 1.861462093862816\n",
      "VIDEO_PLAYERS : 1.7937725631768955\n",
      "MAPS_AND_NAVIGATION : 1.3989169675090252\n",
      "FOOD_AND_DRINK : 1.2409747292418771\n",
      "EDUCATION : 1.1620036101083033\n",
      "ENTERTAINMENT : 0.9589350180505415\n",
      "LIBRARIES_AND_DEMO : 0.9363718411552346\n",
      "AUTO_AND_VEHICLES : 0.9250902527075812\n",
      "HOUSE_AND_HOME : 0.8235559566787004\n",
      "WEATHER : 0.8009927797833934\n",
      "EVENTS : 0.7107400722021661\n",
      "PARENTING : 0.6543321299638989\n",
      "ART_AND_DESIGN : 0.6430505415162455\n",
      "COMICS : 0.6204873646209386\n",
      "BEAUTY : 0.5979241877256317\n"
     ]
    }
   ],
   "source": [
    "display_table(check_final_android, 1) # Category (Google Playstore)"
   ]
  },
  {
   "cell_type": "markdown",
   "metadata": {},
   "source": [
    "## Most Popular Apps by Genre on the App Store\n",
    "\n",
    "In this section, we will identify the most popular apps on the App Store. Earlier, we learned that the genre that dominate in App Store was mostly designed for fun. Now, to know what is the most popular app, total number of user ratings will be considered. It can be accessed to `rating_count_tot` app.\n",
    "\n",
    "What we will do here:\n",
    "- Isolate the apps of each genre.\n",
    "- Sum up the user ratings for the apps of that genre.\n",
    "- Divide the sum by the number of apps belonging to that genre (not by the total number of apps)."
   ]
  },
  {
   "cell_type": "markdown",
   "metadata": {},
   "source": [
    "For this one, we get the average number of user ratings. "
   ]
  },
  {
   "cell_type": "code",
   "execution_count": 22,
   "metadata": {
    "scrolled": true
   },
   "outputs": [
    {
     "name": "stdout",
     "output_type": "stream",
     "text": [
      "Social Networking :  71548.34905660378\n",
      "Photo & Video :  28441.54375\n",
      "Games :  22788.6696905016\n",
      "Music :  57326.530303030304\n",
      "Reference :  74942.11111111111\n",
      "Health & Fitness :  23298.015384615384\n",
      "Weather :  52279.892857142855\n",
      "Utilities :  18684.456790123455\n",
      "Travel :  28243.8\n",
      "Shopping :  26919.690476190477\n",
      "News :  21248.023255813954\n",
      "Navigation :  86090.33333333333\n",
      "Lifestyle :  16485.764705882353\n",
      "Entertainment :  14029.830708661417\n",
      "Food & Drink :  33333.92307692308\n",
      "Sports :  23008.898550724636\n",
      "Book :  39758.5\n",
      "Finance :  31467.944444444445\n",
      "Education :  7003.983050847458\n",
      "Productivity :  21028.410714285714\n",
      "Business :  7491.117647058823\n",
      "Catalogs :  4004.0\n",
      "Medical :  612.0\n"
     ]
    }
   ],
   "source": [
    "prime_genre = freq_table(check_final_iOS, -5) # prime_genre (iOS)\n",
    "\n",
    "for genre in prime_genre:\n",
    "    total = 0\n",
    "    len_genre = 0\n",
    "    \n",
    "    for app in check_final_iOS:\n",
    "        genre_app = app[-5]\n",
    "        if genre_app == genre:\n",
    "            user_rating = float(app[5])\n",
    "            total += user_rating\n",
    "            len_genre += 1\n",
    "            \n",
    "    avg_num_user_rating = total/len_genre    \n",
    "    print(genre, \": \", avg_num_user_rating)"
   ]
  },
  {
   "cell_type": "markdown",
   "metadata": {},
   "source": [
    "For this one, we will consider *Music* as an app profile recommendation for the App Store. Below shows that Pandora - Music & Radio has the highest number of reviews for Music. "
   ]
  },
  {
   "cell_type": "code",
   "execution_count": 23,
   "metadata": {},
   "outputs": [
    {
     "name": "stdout",
     "output_type": "stream",
     "text": [
      "Pandora - Music & Radio :  1126879\n",
      "Spotify Music :  878563\n",
      "Shazam - Discover music, artists, videos & lyrics :  402925\n",
      "iHeartRadio – Free Music & Radio Stations :  293228\n",
      "SoundCloud - Music & Audio :  135744\n",
      "Magic Piano by Smule :  131695\n",
      "Smule Sing! :  119316\n",
      "TuneIn Radio - MLB NBA Audiobooks Podcasts Music :  110420\n",
      "Amazon Music :  106235\n",
      "SoundHound Song Search & Music Player :  82602\n",
      "Sonos Controller :  48905\n",
      "Bandsintown Concerts :  30845\n",
      "Karaoke - Sing Karaoke, Unlimited Songs! :  28606\n",
      "My Mixtapez Music :  26286\n",
      "Sing Karaoke Songs Unlimited with StarMaker :  26227\n",
      "Ringtones for iPhone & Ringtone Maker :  25403\n",
      "Musi - Unlimited Music For YouTube :  25193\n",
      "AutoRap by Smule :  18202\n",
      "Spinrilla - Mixtapes For Free :  15053\n",
      "Napster - Top Music & Radio :  14268\n",
      "edjing Mix:DJ turntable to remix and scratch music :  13580\n",
      "Free Music - MP3 Streamer & Playlist Manager Pro :  13443\n",
      "Free Piano app by Yokee :  13016\n",
      "Google Play Music :  10118\n",
      "Certified Mixtapes - Hip Hop Albums & Mixtapes :  9975\n",
      "TIDAL :  7398\n",
      "YouTube Music :  7109\n",
      "Nicki Minaj: The Empire :  5196\n",
      "Sounds app - Music And Friends :  5126\n",
      "SongFlip - Free Music Streamer :  5004\n",
      "Simple Radio - Live AM & FM Radio Stations :  4787\n",
      "Deezer - Listen to your Favorite Music & Playlists :  4677\n",
      "Ringtones for iPhone with Ringtone Maker :  4013\n",
      "Bose SoundTouch :  3687\n",
      "Amazon Alexa :  3018\n",
      "DatPiff :  2815\n",
      "Trebel Music - Unlimited Music Downloader :  2570\n",
      "Free Music Play - Mp3 Streamer & Player :  2496\n",
      "Acapella from PicPlayPost :  2487\n",
      "Coach Guitar - Lessons & Easy Tabs For Beginners :  2416\n",
      "Musicloud - MP3 and FLAC Music Player for Cloud Platforms. :  2211\n",
      "Piano - Play Keyboard Music Games with Magic Tiles :  1636\n",
      "Boom: Best Equalizer & Magical Surround Sound :  1375\n",
      "Music Freedom - Unlimited Free MP3 Music Streaming :  1246\n",
      "AmpMe - A Portable Social Party Music Speaker :  1047\n",
      "Medly - Music Maker :  933\n",
      "Bose Connect :  915\n",
      "Music Memos :  909\n",
      "UE BOOM :  612\n",
      "LiveMixtapes :  555\n",
      "NOISE :  355\n",
      "MP3 Music Player & Streamer for Clouds :  329\n",
      "Musical Video Maker - Create Music clips lip sync :  320\n",
      "Cloud Music Player - Downloader & Playlist Manager :  319\n",
      "Remixlive - Remix loops with pads :  288\n",
      "QQ音乐HD :  224\n",
      "Blocs Wave - Make & Record Music :  158\n",
      "PlayGround • Music At Your Fingertips :  150\n",
      "Music and Chill :  135\n",
      "The Singing Machine Mobile Karaoke App :  130\n",
      "radio.de - Der Radioplayer :  64\n",
      "Free Music -  Player & Streamer  for Dropbox, OneDrive & Google Drive :  46\n",
      "NRJ Radio :  38\n",
      "Smart Music: Streaming Videos and Radio :  17\n",
      "BOSS Tuner :  13\n",
      "PetitLyrics :  0\n"
     ]
    }
   ],
   "source": [
    "for app in check_final_iOS:\n",
    "    if app[11] == 'Music':\n",
    "        print(app[1], \": \", app[5]) # name and number of ratings"
   ]
  },
  {
   "cell_type": "markdown",
   "metadata": {},
   "source": [
    "## Most Popular Apps by Genre on Google Play\n",
    "\n",
    "For this section, we will evaluate the most popular apps by Genre on Google Play. Although, the problem is that we cannot clearly see the install numbers since most values are open-ended. Refer to the output below."
   ]
  },
  {
   "cell_type": "code",
   "execution_count": 24,
   "metadata": {
    "scrolled": true
   },
   "outputs": [
    {
     "name": "stdout",
     "output_type": "stream",
     "text": [
      "1,000,000+ : 15.726534296028879\n",
      "100,000+ : 11.552346570397113\n",
      "10,000,000+ : 10.548285198555957\n",
      "10,000+ : 10.198555956678701\n",
      "1,000+ : 8.393501805054152\n",
      "100+ : 6.915613718411552\n",
      "5,000,000+ : 6.825361010830325\n",
      "500,000+ : 5.561823104693141\n",
      "50,000+ : 4.7721119133574\n",
      "5,000+ : 4.512635379061372\n",
      "10+ : 3.5424187725631766\n",
      "500+ : 3.2490974729241873\n",
      "50,000,000+ : 2.3014440433213\n",
      "100,000,000+ : 2.1322202166064983\n",
      "50+ : 1.917870036101083\n",
      "5+ : 0.78971119133574\n",
      "1+ : 0.5076714801444043\n",
      "500,000,000+ : 0.2707581227436823\n",
      "1,000,000,000+ : 0.22563176895306858\n",
      "0+ : 0.04512635379061372\n",
      "0 : 0.01128158844765343\n"
     ]
    }
   ],
   "source": [
    "display_table(check_final_android, 5) # the Installs columns"
   ]
  },
  {
   "cell_type": "markdown",
   "metadata": {},
   "source": [
    "For this code we determine the average number of installs in Google Playstore. "
   ]
  },
  {
   "cell_type": "code",
   "execution_count": 25,
   "metadata": {},
   "outputs": [
    {
     "name": "stdout",
     "output_type": "stream",
     "text": [
      "ART_AND_DESIGN :  1986335.0877192982\n",
      "AUTO_AND_VEHICLES :  647317.8170731707\n",
      "BEAUTY :  513151.88679245283\n",
      "BOOKS_AND_REFERENCE :  8767811.894736841\n",
      "BUSINESS :  1712290.1474201474\n",
      "COMICS :  817657.2727272727\n",
      "COMMUNICATION :  38456119.167247385\n",
      "DATING :  854028.8303030303\n",
      "EDUCATION :  1833495.145631068\n",
      "ENTERTAINMENT :  11640705.88235294\n",
      "EVENTS :  253542.22222222222\n",
      "FINANCE :  1387692.475609756\n",
      "FOOD_AND_DRINK :  1924897.7363636363\n",
      "HEALTH_AND_FITNESS :  4188821.9853479853\n",
      "HOUSE_AND_HOME :  1331540.5616438356\n",
      "LIBRARIES_AND_DEMO :  638503.734939759\n",
      "LIFESTYLE :  1437816.2687861272\n",
      "GAME :  15588015.603248259\n",
      "FAMILY :  3695641.8198090694\n",
      "MEDICAL :  120550.61980830671\n",
      "SOCIAL :  23253652.127118643\n",
      "SHOPPING :  7036877.311557789\n",
      "PHOTOGRAPHY :  17840110.40229885\n",
      "SPORTS :  3638640.1428571427\n",
      "TRAVEL_AND_LOCAL :  13984077.710144928\n",
      "TOOLS :  10801391.298666667\n",
      "PERSONALIZATION :  5201482.6122448975\n",
      "PRODUCTIVITY :  16787331.344927534\n",
      "PARENTING :  542603.6206896552\n",
      "WEATHER :  5074486.197183099\n",
      "VIDEO_PLAYERS :  24727872.452830188\n",
      "NEWS_AND_MAGAZINES :  9549178.467741935\n",
      "MAPS_AND_NAVIGATION :  4056941.7741935486\n"
     ]
    }
   ],
   "source": [
    "category_android = freq_table(check_final_android, 1) # Category (Google Playstore)\n",
    "\n",
    "for category in category_android:\n",
    "    total = 0\n",
    "    len_category = 0\n",
    "    \n",
    "    for app in check_final_android:\n",
    "        category_app = app[1]\n",
    "        if category_app == category:\n",
    "            n_installs = app[5]\n",
    "            n_installs = n_installs.replace(',', '')\n",
    "            n_installs = n_installs.replace('+', '')\n",
    "            total += float(n_installs)\n",
    "            len_category += 1\n",
    "            \n",
    "    avg_num_install = total/len_category    \n",
    "    print(category, \": \", avg_num_install)"
   ]
  },
  {
   "cell_type": "markdown",
   "metadata": {},
   "source": [
    "For app profile recommendation in Google Play, I will consider now the category *SOCIAL* gaining an average number of installs of 23253652.127118643. We can see below that Facebook contributed 1,000,000,000+ installs from the social category."
   ]
  },
  {
   "cell_type": "code",
   "execution_count": 26,
   "metadata": {},
   "outputs": [
    {
     "name": "stdout",
     "output_type": "stream",
     "text": [
      "Facebook :  1,000,000,000+\n",
      "Facebook Lite :  500,000,000+\n",
      "Tumblr :  100,000,000+\n",
      "Social network all in one 2018 :  100,000+\n",
      "Pinterest :  100,000,000+\n",
      "TextNow - free text + calls :  10,000,000+\n",
      "Google+ :  1,000,000,000+\n",
      "The Messenger App :  1,000,000+\n",
      "Messenger Pro :  1,000,000+\n",
      "Free Messages, Video, Chat,Text for Messenger Plus :  1,000,000+\n",
      "Telegram X :  5,000,000+\n",
      "The Video Messenger App :  100,000+\n",
      "Jodel - The Hyperlocal App :  1,000,000+\n",
      "Hide Something - Photo, Video :  5,000,000+\n",
      "Love Sticker :  1,000,000+\n",
      "Web Browser & Fast Explorer :  5,000,000+\n",
      "LiveMe - Video chat, new friends, and make money :  10,000,000+\n",
      "VidStatus app - Status Videos & Status Downloader :  5,000,000+\n",
      "Love Images :  1,000,000+\n",
      "Web Browser ( Fast & Secure Web Explorer) :  500,000+\n",
      "SPARK - Live random video chat & meet new people :  5,000,000+\n",
      "Golden telegram :  50,000+\n",
      "Facebook Local :  1,000,000+\n",
      "Meet – Talk to Strangers Using Random Video Chat :  5,000,000+\n",
      "MobilePatrol Public Safety App :  1,000,000+\n",
      "💘 WhatsLov: Smileys of love, stickers and GIF :  1,000,000+\n",
      "HTC Social Plugin - Facebook :  10,000,000+\n",
      "Quora :  10,000,000+\n",
      "Kate Mobile for VK :  10,000,000+\n",
      "Family GPS tracker KidControl + GPS by SMS Locator :  1,000,000+\n",
      "Moment :  1,000,000+\n",
      "Text Me: Text Free, Call Free, Second Phone Number :  10,000,000+\n",
      "Text Free: WiFi Calling App :  5,000,000+\n",
      "Badoo - Free Chat & Dating App :  100,000,000+\n",
      "Text free - Free Text + Call :  10,000,000+\n",
      "Tango - Live Video Broadcast :  100,000,000+\n",
      "ooVoo Video Calls, Messaging & Stories :  50,000,000+\n",
      "Whisper :  5,000,000+\n",
      "Blogger :  5,000,000+\n",
      "Bloglovin' :  500,000+\n",
      "Blogaway for Android (Blogger) :  100,000+\n",
      "Instagram :  1,000,000,000+\n",
      "TwitCasting Live :  1,000,000+\n",
      "Stream - Live Video Community :  500,000+\n",
      "YouNow: Live Stream Video Chat :  10,000,000+\n",
      "Mirrativ: Live Stream Any App :  500,000+\n",
      "Snapchat :  500,000,000+\n",
      "Banjo :  1,000,000+\n",
      "We Heart It :  10,000,000+\n",
      "MeetMe: Chat & Meet New People :  50,000,000+\n",
      "Timehop :  5,000,000+\n",
      "Frontback - Social Photos :  1,000,000+\n",
      "LinkedIn :  100,000,000+\n",
      "Path :  10,000,000+\n",
      "SayHi Chat, Meet New People :  10,000,000+\n",
      "Tapatalk - 100,000+ Forums :  10,000,000+\n",
      "Couple - Relationship App :  1,000,000+\n",
      "Nextdoor - Local neighborhood news & classifieds :  5,000,000+\n",
      "LOVOO :  10,000,000+\n",
      "Jaumo Dating, Flirt & Live Video :  10,000,000+\n",
      "Patook - make platonic friends :  100,000+\n",
      "Zello PTT Walkie Talkie :  50,000,000+\n",
      "textPlus: Free Text & Calls :  10,000,000+\n",
      "magicApp Calling & Messaging :  10,000,000+\n",
      "Dating App, Flirt & Chat : W-Match :  10,000,000+\n",
      "uCiC- Videos and Photos on demand :  100,000+\n",
      "Meetup :  5,000,000+\n",
      "POF Free Dating App :  50,000,000+\n",
      "Tagged - Meet, Chat & Dating :  10,000,000+\n",
      "SKOUT - Meet, Chat, Go Live :  50,000,000+\n",
      "Mico- Stranger Chat Random video Chat, Live, Meet :  10,000,000+\n",
      "Waplog - Free Chat, Dating App, Meet Singles :  10,000,000+\n",
      "Tik Tok - including musical.ly :  100,000,000+\n",
      "B-Messenger Video Chat :  1,000,000+\n",
      "BIGO LIVE - Live Stream :  100,000,000+\n",
      "Greeting Cards & Wishes :  500,000+\n",
      "Share G - Images Sharing - Wallpapers App :  10,000+\n",
      "H letter images :  1,000+\n",
      "Instachat 😜 :  5,000,000+\n",
      "Fame Boom for Real Followers, Likes :  5,000,000+\n",
      "FollowMeter for Instagram :  1,000,000+\n",
      "Mali J :  10,000+\n",
      "KDRAMA Amino for K-Drama Fans :  100,000+\n",
      "KPOP Amino for K-Pop Entertainment :  100,000+\n",
      "EXO-L Amino for EXO Fans :  50,000+\n",
      "Verdad o Reto :  500,000+\n",
      "pixiv :  1,000,000+\n",
      "Join R, Community Engagement :  1,000+\n",
      "U LIVE – Video Chat & Stream :  1,000,000+\n",
      "See U - Random video chat, video chat :  100,000+\n",
      "What U See :  100,000+\n",
      "U-Report :  10,000+\n",
      "Meet U - Get Friends for Snapchat, Kik & Instagram :  100,000+\n",
      "VMate Lite - Funny Short Videos Social Network :  1,000,000+\n",
      "V Bucks ProTips New :  1,000+\n",
      "i-share AF/KLM (AFKL ishare) :  100+\n",
      "Eternal Light AG :  100+\n",
      "Message AI - Write Better Messages (Free) :  100+\n",
      "Jamaa Amino for Animal Jam :  10,000+\n",
      "Legend - Animate Text in Video :  10,000,000+\n",
      "GUYZ - Gay Chat & Gay Dating :  1,000,000+\n",
      "eChallan Andhra Pradesh (AP) :  1,000+\n",
      "Snaappy – 3D fun AR core communication platform :  1,000,000+\n",
      "Undertale AU Amino :  50,000+\n",
      "Au Pair :  10,000+\n",
      "Media Sosial TNI AU :  1,000+\n",
      "BA 3 Banjarmasin :  10+\n",
      "iCard BD Plus :  500+\n",
      "Movement BE :  100+\n",
      "YAY - TBH :  100,000+\n",
      "Find My Friends :  10,000,000+\n",
      "BG LINKED (BGLINKED) :  1,000+\n",
      "Zdravei.BG :  1,000+\n",
      "BGKontakti London BG Kontakti :  500+\n",
      "BGKontakti Bayern BG Kontakti :  1,000+\n",
      "BGKontakti Vienna BG Kontakti :  1,000+\n",
      "Discípulos em BH :  100+\n",
      "BH Connect :  1+\n",
      "Gayvox - Gay Lesbian Bi Dating :  500,000+\n",
      "Grindr - Gay chat :  10,000,000+\n",
      "Lesbian Chat & Dating - SPICY :  1,000,000+\n",
      "Alumni BJ :  100+\n",
      "VK :  100,000,000+\n",
      "BK Traffic Control cum Chart :  10,000+\n",
      "Daily Murli Saar Widget :  10,000+\n",
      "Myjob@BM :  100+\n",
      "bm-Events :  10+\n",
      "BOO! - Next Generation Messenger :  1,000,000+\n",
      "Wishbone - Compare Anything :  1,000,000+\n",
      "BR Chat Bot :  1,000+\n",
      "Br Browser :  500+\n",
      "Dr B R Ambedkar (Jai Bhim) :  100,000+\n",
      "Dr. B.R.Ambedkar :  100,000+\n",
      "Black Social :  1,000+\n",
      "BT Communicator :  10,000+\n",
      "BT Dating -Find your match, help cupid, be social :  50,000+\n",
      "Fiesta by Tango - Find, Meet and Make New Friends :  1,000,000+\n",
      "Evasion.bz :  100+\n",
      "CB Heroes :  5+\n",
      "CG Districts :  1,000+\n",
      "Digi-TV.ch :  10,000+\n",
      "Students.ch :  1,000+\n",
      "CJ Gospel Hour :  100+\n",
      "Pekalongan CJ :  0+\n",
      "Hashtags For Likes.co :  50,000+\n",
      "CP Dialer :  50,000+\n",
      "C.P. CERVANTES (TOBARRA) :  5+\n",
      "Cyprus Police :  10,000+\n",
      "Rande.cz :  50,000+\n",
      "signály.cz :  1,000+\n",
      "DB Event App :  5,000+\n",
      "DC Comics Amino :  1,000+\n",
      "DF BugMeNot :  500+\n",
      "Noticias DF :  1,000+\n",
      "Periscope - Live Video :  10,000,000+\n",
      "Daddyhunt: Gay Dating :  500,000+\n",
      "Free phone calls, free texting SMS on free number :  10,000,000+\n",
      "Phone Tracker : Family Locator :  10,000,000+\n",
      "HOLLA Live: Meet New People via Random Video Chat :  5,000,000+\n",
      "Dating.dk :  100,000+\n",
      "DK Murali :  500+\n",
      "GirlTalk.dk :  100+\n",
      "+Download 4 Instagram Twitter :  1,000,000+\n",
      "DM Me - Chat :  10,000+\n",
      "DM for IG 😘 - Image & Video Saver for Instagram :  5,000+\n",
      "Auto DM for Twitter 🔥 :  1,000+\n",
      "DM Storage (for twitter) :  100+\n",
      "Fake Chat (Direct Message) :  500,000+\n",
      "Otto DM :  10+\n",
      "DN Blog :  10+\n",
      "DP and Status for WhatsApp 2018 :  100,000+\n",
      "Dp For Whatsapp :  5,000+\n",
      "Profile Pictures and DP for Whatsapp :  5,000+\n",
      "Dp for Facebook :  5,000+\n",
      "Best DP and Status :  10,000+\n",
      "Instant DP Downloader for Instagram :  5,000+\n",
      "DP Display Pictures Life Quotes Motivational GM :  5,000+\n",
      "Qeek for Instagram - Zoom profile insta DP :  500,000+\n",
      "DV Statistics :  100+\n",
      "DW Streaming :  1,000+\n",
      "News Dz :  10+\n",
      "quran-DZ :  10+\n",
      "TN e Sevai TN EB Bill Patta Citta EC Birth All Hub :  5,000+\n",
      "TNEB Bill Online Payment (Tamil) :  5,000+\n",
      "UP EB Bill Payment & Details :  50+\n",
      "TN EC Online New :  1,000+\n",
      "TN Patta /Chitta /EC New :  100+\n",
      "EG Way Life :  50+\n",
      "Equestria Amino for MLP :  50,000+\n",
      "Ek Maratha :  10,000+\n",
      "Hum Ek Hain 2.02 :  10+\n",
      "Sabka Malik Ek Sai :  1,000+\n",
      "EO RAIPUR :  10+\n",
      "Anime et Manga Amino en Français :  50,000+\n",
      "Hornet - Gay Social Network :  5,000,000+\n",
      "Amino: Communities and Chats :  10,000,000+\n",
      "European Solidarity Corps :  1,000+\n",
      "Reisedealz.eu :  10+\n",
      "Eddsworld Amino :  10,000+\n",
      "Rejoin Your Ex :  100+\n",
      "Amleen Ey :  1+\n",
      "Coupe Adhémar EY 2017 :  50+\n",
      "EZ Video Download for Facebook :  1,000,000+\n",
      "Messages, Text and Video Chat for Messenger :  10,000,000+\n",
      "All Social Networks :  1,000,000+\n",
      "Messenger Messenger :  10,000,000+\n",
      "Facebook Creator :  1,000,000+\n",
      "Swift for Facebook Lite :  500,000+\n",
      "Friendly for Facebook :  1,000,000+\n",
      "Faster for Facebook Lite :  1,000,000+\n",
      "Puffin for Facebook :  500,000+\n",
      "Profile Tracker - Who Viewed My Facebook Profile :  500,000+\n",
      "Pink Color for Facebook :  500,000+\n",
      "Messenger :  10,000,000+\n",
      "Stickers for Imo, fb, whatsapp :  10,000+\n",
      "Who Viewed My Facebook Profile - Stalkers Visitors :  5,000,000+\n",
      "Downloader plus for FB :  500+\n",
      "MB Notifications for FB (Free) :  100,000+\n",
      "Phoenix - Facebook & Messenger :  100,000+\n",
      "Faster Social for Facebook :  100,000+\n",
      "Check Your Visitors on FB ? :  5,000+\n",
      "Stickers for Facebook :  1,000,000+\n",
      "Lite Messenger for Facebook Lite :  10,000+\n",
      "Mini for Facebook lite :  10,000+\n",
      "FB Advanced Search :  50+\n",
      "funny Image Comments for FB :  5,000+\n",
      "Unlimited Group Links - Whatsapp, FB, Telegram :  10,000+\n",
      "FCB Connect - FC Barcelona :  50,000+\n",
      "Frases Cristianas de Esperanza y Fe :  100+\n",
      "FutureNet your social app :  100,000+\n",
      "Alarm.fo – choose your info :  1,000+\n",
      "FunForMobile Ringtones & Chat :  5,000,000+\n",
      "Chat For Strangers - Video Chat :  100,000+\n",
      "Fr Daoud Lamei :  100,000+\n",
      "Naruto & Boruto FR :  100+\n",
      "Frim: get new friends on local chat rooms :  5,000,000+\n"
     ]
    }
   ],
   "source": [
    "for app in check_final_android:\n",
    "    if app[1] == 'SOCIAL':\n",
    "        print(app[0], \": \", app[5]) # name and number of installs"
   ]
  },
  {
   "cell_type": "markdown",
   "metadata": {},
   "source": [
    "## Conclusion\n",
    "\n",
    "The Fundamentals of Python are used in this guided project. Data cleaning has been implemented. First thing is to delete the wrong data. Second, we remove duplicate entries from Google Playstore. Third, we  remove non-english apps. Next, consider only the free apps. After all these steps, we now identify the most used apps in Apple Store and Google Playstore. Overall, I can say that apps that are most attractive to users are the ones that can entertain them (such as games, music, and social media apps)."
   ]
  }
 ],
 "metadata": {
  "kernelspec": {
   "display_name": "Python 3",
   "language": "python",
   "name": "python3"
  },
  "language_info": {
   "codemirror_mode": {
    "name": "ipython",
    "version": 3
   },
   "file_extension": ".py",
   "mimetype": "text/x-python",
   "name": "python",
   "nbconvert_exporter": "python",
   "pygments_lexer": "ipython3",
   "version": "3.7.6"
  }
 },
 "nbformat": 4,
 "nbformat_minor": 2
}
